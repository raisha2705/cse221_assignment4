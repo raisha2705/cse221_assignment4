{
  "nbformat": 4,
  "nbformat_minor": 0,
  "metadata": {
    "colab": {
      "provenance": []
    },
    "kernelspec": {
      "name": "python3",
      "display_name": "Python 3"
    },
    "language_info": {
      "name": "python"
    }
  },
  "cells": [
    {
      "cell_type": "markdown",
      "source": [
        "TASK-A"
      ],
      "metadata": {
        "id": "uorvUIiCK3jD"
      }
    },
    {
      "cell_type": "code",
      "execution_count": null,
      "metadata": {
        "colab": {
          "base_uri": "https://localhost:8080/"
        },
        "id": "NPiaTXleKtxs",
        "outputId": "87ffe0ed-ddff-45bd-c5a2-58ad10c44244"
      },
      "outputs": [
        {
          "output_type": "stream",
          "name": "stdout",
          "text": [
            "5 4\n",
            "2 4\n",
            "2 5\n",
            "4 3\n",
            "1 5\n",
            "1 2 4 5 3\n"
          ]
        }
      ],
      "source": [
        "n,m = map(int,input().split())\n",
        "graph = [[] for i in range(n+1)]\n",
        "in_d = [0]*(n+1) #in degree\n",
        "\n",
        "for i in range(m):\n",
        "    a,b = map(int,input().split())\n",
        "    graph[a].append(b)\n",
        "    in_d[b]+=1\n",
        "\n",
        "q=[]\n",
        "for i in range(1,n+1):  # in degree 0 hoile q te nibo\n",
        "    if in_d[i]==0:\n",
        "        q.append(i)\n",
        "\n",
        "l=[]\n",
        "idx=0\n",
        "while idx<len(q):\n",
        "    x=q[idx]\n",
        "    l.append(x)\n",
        "    for v in graph[x]:\n",
        "        in_d[v]-=1\n",
        "        if in_d[v]==0:\n",
        "            q.append(v)\n",
        "    idx+=1\n",
        "\n",
        "if len(l)==n:\n",
        "    print(*l)\n",
        "else:\n",
        "    print(-1)\n"
      ]
    },
    {
      "cell_type": "markdown",
      "source": [
        "TASK-F"
      ],
      "metadata": {
        "id": "fD5sF8dfPlbk"
      }
    },
    {
      "cell_type": "code",
      "source": [
        "import heapq\n",
        "n=int(input())\n",
        "words=[input() for i in range(n)]\n",
        "graph= [[] for i in range(26)] # 26 alphabets\n",
        "in_d = [0]*(26)\n",
        "a_used = [False]*26 #alphabet used\n",
        "\n",
        "for i in words: #used alphabets ber kortesi\n",
        "    for j in i:\n",
        "        a_used[ord(j)-97]=True #0 based index\n",
        "\n",
        "valid_order = True #graph banai\n",
        "for i in range(n-1): #for n, comparison n-1\n",
        "    w1=words[i]\n",
        "    w2=words[i+1]\n",
        "    min=len(w1) if len(w1)<len(w2) else len(w2) #choto length wise comparison\n",
        "    flag= False\n",
        "    for j in range(min):\n",
        "        if w1[j]!=w2[j]: #comparing idx wise words\n",
        "            graph[ord(w1[j])-97].append(ord(w2[j])-97) #0 based index\n",
        "            in_d[ord(w2[j])-97]+=1\n",
        "            flag=True\n",
        "            break\n",
        "    if flag== False and len(w1)>len(w2):\n",
        "        valid_order=False\n",
        "        break\n",
        "\n",
        "if  valid_order==False:\n",
        "    print(-1)\n",
        "else:  #topological sort\n",
        "    heap=[] #result\n",
        "    l=[]\n",
        "    for i in range(26):\n",
        "        if in_d[i]==0 and a_used[i]==True:\n",
        "            heapq.heappush(heap,i)\n",
        "\n",
        "    while heap:\n",
        "        x=heapq.heappop(heap)\n",
        "        l.append(x)\n",
        "        for v in graph[x]:\n",
        "            in_d[v]-=1\n",
        "            if in_d[v]==0:\n",
        "                heapq.heappush(heap,v)\n",
        "\n",
        "    count=0\n",
        "    for i in a_used:\n",
        "        if i == True:\n",
        "            count+=1\n",
        "\n",
        "    if len(l)!=count:\n",
        "        print(-1)\n",
        "    else:\n",
        "        for i in l:\n",
        "            print((chr(i+97)) ,end=\"\")"
      ],
      "metadata": {
        "colab": {
          "base_uri": "https://localhost:8080/"
        },
        "id": "c4-ZE09Cn3Ke",
        "outputId": "cfac8416-7c9d-47eb-e34e-aaf5aa8ed187"
      },
      "execution_count": null,
      "outputs": [
        {
          "output_type": "stream",
          "name": "stdout",
          "text": [
            "3\n",
            "eat\n",
            "tea\n",
            "ate\n",
            "eta"
          ]
        }
      ]
    },
    {
      "cell_type": "markdown",
      "source": [
        "TASK-C"
      ],
      "metadata": {
        "id": "Dny3ZlEMQVYn"
      }
    },
    {
      "cell_type": "code",
      "source": [
        "\n",
        "\n",
        "\n",
        "n=int(input())\n",
        "x1,y1,x2,y2= map(int,input().split())\n",
        "\n",
        "if x1==x2 and y1==y2:\n",
        "    print(0)\n",
        "else:\n",
        "    from collections import deque\n",
        "    possible_moves=[(-2,-1),(-1,-2),(-2,1),(-1,2),(1,-2),(1,2),(2,-1),(2,1)]\n",
        "\n",
        "    def helper():\n",
        "\n",
        "        visited = [[0] * (n + 1) for i in range(n + 1)]\n",
        "        q= deque()\n",
        "        q.append((x1,y1,0))\n",
        "        visited[x1][y1]=1\n",
        "\n",
        "        #matrix=set()\n",
        "        #matrix.add((x1,y1))\n",
        "        #q=[(x1,y1,0)]\n",
        "\n",
        "        #idx=0\n",
        "        #while idx<len(q):\n",
        "        while q:\n",
        "            x,y,moves= q.popleft()\n",
        "            for dx,dy in possible_moves:\n",
        "                new_x , new_y = x+dx , y+dy\n",
        "\n",
        "                if 1<=new_x<=n and 1<=new_y<=n and visited[new_x][new_y]==0:\n",
        "                    if new_x==x2 and new_y==y2:\n",
        "                        return moves+1\n",
        "                    visited[new_x][new_y]=1\n",
        "                    q.append((new_x,new_y,moves+1))\n",
        "            #idx+=1\n",
        "        return -1\n",
        "    print(helper())"
      ],
      "metadata": {
        "colab": {
          "base_uri": "https://localhost:8080/"
        },
        "id": "1aLfo4uwQXGy",
        "outputId": "5604c45c-89e2-43ba-c7e9-517baa2ec788"
      },
      "execution_count": null,
      "outputs": [
        {
          "output_type": "stream",
          "name": "stdout",
          "text": [
            "3\n",
            "1 2 1 3\n",
            "3\n"
          ]
        }
      ]
    },
    {
      "cell_type": "code",
      "source": [
        "from collections import deque\n",
        "\n",
        "\n",
        "def helper(n,x1,y1,x2,y2):\n",
        "    if x1==x2 and y1==y2:\n",
        "        return 0\n",
        "    possible_moves=[(-2,-1),(-1,-2),(-2,1),(-1,2),(1,-2),(1,2),(2,-1),(2,1)]\n",
        "    visited= [[0] * (n + 1) for i in range(n + 1)]\n",
        "    visited[x1][y1]=1\n",
        "    q= deque()\n",
        "    q.append((x1,y1,0))\n",
        "    while q:\n",
        "        x,y,moves= q.popleft()\n",
        "        for dx,dy in possible_moves:\n",
        "            new_x , new_y = x+dx , y+dy\n",
        "\n",
        "            if 1<=new_x<=n and 1<=new_y<=n and  visited[new_x][new_y]==0:\n",
        "                if new_x==x2 and new_y==y2:\n",
        "                    return moves+1\n",
        "                visited[new_x][new_y]=1\n",
        "                q.append((new_x,new_y,moves+1))\n",
        "            #idx+=1\n",
        "    return -1\n",
        "\n",
        "n=int(input())\n",
        "x1,y1,x2,y2= map(int,input().split())\n",
        "print(helper(n, x1, y1, x2, y2))"
      ],
      "metadata": {
        "id": "fkmK6_-t6z9_"
      },
      "execution_count": null,
      "outputs": []
    },
    {
      "cell_type": "markdown",
      "source": [
        "TASK-E"
      ],
      "metadata": {
        "id": "wBvHhhFKCUdo"
      }
    },
    {
      "cell_type": "code",
      "source": [
        "def bfs(s,g,n): #source,graph,n\n",
        "    visited=[0]*(n+1)\n",
        "    q=[]\n",
        "    distance=[0]*(n+1)\n",
        "    q.append(s)\n",
        "    visited[s]=1\n",
        "    idx=0\n",
        "    while idx<len(q):\n",
        "        x=q[idx]\n",
        "        for i in g[x]:\n",
        "            if visited[i]==0:\n",
        "                visited[i]=1\n",
        "                distance[i]=distance[x]+1 #parent theke distance\n",
        "                q.append(i)\n",
        "        idx+=1\n",
        "\n",
        "    farthest_node= s\n",
        "    farthest_distance=0\n",
        "    for i in range(1,n+1):\n",
        "        if distance[i]>farthest_distance:\n",
        "            farthest_node = i\n",
        "            farthest_distance= distance[i]\n",
        "\n",
        "    return farthest_node, farthest_distance\n",
        "\n",
        "n= int(input())\n",
        "graph=[[] for i in range(n+1)]\n",
        "for i in range(n-1):\n",
        "    u,v = map(int,input().split())\n",
        "    graph[u].append(v)\n",
        "    graph[v].append(u)\n",
        "\n",
        "X, distance1 = bfs(1,graph,n)\n",
        "Y, distance2 = bfs(X,graph,n)\n",
        "\n",
        "print(distance2)\n",
        "print(X,Y)\n"
      ],
      "metadata": {
        "colab": {
          "base_uri": "https://localhost:8080/"
        },
        "id": "ayjsm1ICCSnM",
        "outputId": "a32a8952-2d66-4f96-f0d6-019384ed0dca"
      },
      "execution_count": null,
      "outputs": [
        {
          "output_type": "stream",
          "name": "stdout",
          "text": [
            "5\n",
            "5 1\n",
            "1 4\n",
            "4 2\n",
            "3 2\n",
            "4\n",
            "3 5\n"
          ]
        }
      ]
    },
    {
      "cell_type": "markdown",
      "source": [
        "TASK-D"
      ],
      "metadata": {
        "id": "wudt3UvvUEjo"
      }
    },
    {
      "cell_type": "code",
      "source": [
        "import sys\n",
        "sys.setrecursionlimit(1 << 25)\n",
        "def dfs(x,g): #node,graph\n",
        "    visited[x]=1\n",
        "    curr_size = 1\n",
        "    for i in g[x]:\n",
        "        if visited[i]==0:\n",
        "            curr_size+=dfs(i,g)\n",
        "    subtree_size[x]= curr_size\n",
        "    return curr_size\n",
        "\n",
        "\n",
        "n,r = map(int,input().split())\n",
        "\n",
        "graph={}\n",
        "for i in range(1,n+1):\n",
        "    graph[i] = []\n",
        "\n",
        "for i in range(n-1):\n",
        "    u,v = map(int,input().split())\n",
        "    graph[u].append(v)\n",
        "    graph[v].append(u)\n",
        "\n",
        "subtree_size = [0] *(n+1)\n",
        "visited= [0]*(n+1)\n",
        "dfs(r,graph)\n",
        "\n",
        "q = int(input())\n",
        "for i in range(q):\n",
        "    x = int(input())\n",
        "    print(subtree_size[x])"
      ],
      "metadata": {
        "colab": {
          "base_uri": "https://localhost:8080/"
        },
        "id": "m8G2LdhqUF9T",
        "outputId": "0efdb38e-1016-4e3a-f68d-e2ba30506365"
      },
      "execution_count": null,
      "outputs": [
        {
          "output_type": "stream",
          "name": "stdout",
          "text": [
            "1 1\n",
            "1\n",
            "1\n",
            "1\n"
          ]
        }
      ]
    },
    {
      "cell_type": "markdown",
      "source": [
        "TASK-B"
      ],
      "metadata": {
        "id": "h54hDXSWyani"
      }
    },
    {
      "cell_type": "code",
      "source": [
        "def helper(i):\n",
        "    q=[i]\n",
        "    visited[i]=True\n",
        "    color[i]=0\n",
        "    idx=0\n",
        "    c0=1 # 0 count\n",
        "    c1=0 # 1 count\n",
        "\n",
        "    while idx<len(q):\n",
        "        x=q[idx]\n",
        "        for j in graph[x]:\n",
        "            if visited[j]==False:\n",
        "                visited[j]=True\n",
        "                color[j]= 1-color[x]\n",
        "                if color[j] == 0:\n",
        "                    c0 += 1\n",
        "                else:\n",
        "                    c1 += 1\n",
        "                q.append(j)\n",
        "            elif color[j]==color[x]:\n",
        "                return -1\n",
        "        idx+=1\n",
        "\n",
        "    return max(c0,c1)\n",
        "\n",
        "n,m= map(int,input().split())\n",
        "graph= [[] for i in range(n+1)]\n",
        "for i in range(m):\n",
        "    u,v= map(int,input().split())\n",
        "    graph[u].append(v)\n",
        "    graph[v].append(u)\n",
        "\n",
        "visited = [False] * (n + 1)\n",
        "color=[-1]*(n+1)\n",
        "result=0\n",
        "for i in range(1,n+1):\n",
        "    if visited[i]==False:\n",
        "        result+= helper(i)\n",
        "print(result)\n"
      ],
      "metadata": {
        "colab": {
          "base_uri": "https://localhost:8080/"
        },
        "id": "Ges0hzhy7n6M",
        "outputId": "274f8bfe-cb83-42f4-9208-30803e344114"
      },
      "execution_count": null,
      "outputs": [
        {
          "output_type": "stream",
          "name": "stdout",
          "text": [
            "4 1\n",
            "1 3\n",
            "3\n"
          ]
        }
      ]
    }
  ]
}