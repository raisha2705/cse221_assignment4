{
  "nbformat": 4,
  "nbformat_minor": 0,
  "metadata": {
    "colab": {
      "provenance": []
    },
    "kernelspec": {
      "name": "python3",
      "display_name": "Python 3"
    },
    "language_info": {
      "name": "python"
    }
  },
  "cells": [
    {
      "cell_type": "markdown",
      "source": [
        "TASK-A"
      ],
      "metadata": {
        "id": "Ihq8v8ewE0rg"
      }
    },
    {
      "cell_type": "code",
      "source": [
        "n,k = map(int,input().split())\n",
        "parent = [i for i in range(n + 1)]\n",
        "size = [1] * (n + 1)\n",
        "\n",
        "\n",
        "def find(x):\n",
        "    if parent[x]!=x:\n",
        "        parent[x]= find(parent[x])\n",
        "    return parent[x]\n",
        "\n",
        "def union(x,y):\n",
        "    root_x = find(x)\n",
        "    root_y = find(y)\n",
        "    if root_x != root_y:\n",
        "        if size[root_x] < size[root_y]:\n",
        "            root_x, root_y = root_y, root_x\n",
        "        parent[root_y] = root_x\n",
        "        size[root_x] += size[root_y]\n",
        "    return size[root_x]\n",
        "\n",
        "for i in range(k):\n",
        "    x, y = map(int, input().split())\n",
        "    print(union(x, y))\n"
      ],
      "metadata": {
        "colab": {
          "base_uri": "https://localhost:8080/"
        },
        "id": "AjuZyNdcE15G",
        "outputId": "b16df003-1a3d-469a-9a5d-7e4d5c2c1f3d"
      },
      "execution_count": null,
      "outputs": [
        {
          "output_type": "stream",
          "name": "stdout",
          "text": [
            "2 1\n",
            "1 2\n",
            "2\n"
          ]
        }
      ]
    },
    {
      "cell_type": "markdown",
      "source": [
        "TASK-B"
      ],
      "metadata": {
        "id": "VNyRBBr7Kwfy"
      }
    },
    {
      "cell_type": "code",
      "source": [
        "import sys\n",
        "sys.setrecursionlimit(10**6)\n",
        "\n",
        "n,m = map(int,input().split())\n",
        "l=[]\n",
        "for i in range(m):\n",
        "    u,v,w = map(int,input().split())\n",
        "    l.append((w,u,v))\n",
        "l.sort()\n",
        "parent = [i for i in range(n + 1)]\n",
        "\n",
        "def find(x):\n",
        "    if parent[x] != x:\n",
        "        parent[x] = find(parent[x])\n",
        "    return parent[x]\n",
        "\n",
        "def union(u,v):\n",
        "    root_u = find(u)\n",
        "    root_v = find(v)\n",
        "    if root_u != root_v:\n",
        "        parent[root_v] = root_u\n",
        "        return True\n",
        "    return False\n",
        "\n",
        "\n",
        "cost=0\n",
        "for w,u,v in l:\n",
        "    if union(u,v)==True:\n",
        "        cost+=w\n",
        "\n",
        "print(cost)\n"
      ],
      "metadata": {
        "colab": {
          "base_uri": "https://localhost:8080/"
        },
        "id": "ncmdzS4SKxxS",
        "outputId": "bd5cc4cd-974f-4a7f-bcf6-8a79fc14b214"
      },
      "execution_count": null,
      "outputs": [
        {
          "output_type": "stream",
          "name": "stdout",
          "text": [
            "2 1\n",
            "1 2 9\n",
            "9\n"
          ]
        }
      ]
    },
    {
      "cell_type": "markdown",
      "source": [
        "TASK-C"
      ],
      "metadata": {
        "id": "M1GNNqh6RR8y"
      }
    },
    {
      "cell_type": "code",
      "source": [
        "import sys\n",
        "sys.setrecursionlimit(10**6)\n",
        "n, m = map(int, input().split())\n",
        "l = []\n",
        "for i in range(m):\n",
        "    u, v, w = map(int, input().split())\n",
        "    l.append((w, u, v,i)) #unique index track\n",
        "\n",
        "l.sort()\n",
        "parent = [i for i in range(n + 1)]\n",
        "\n",
        "def find(x,parent):\n",
        "    if parent[x] != x:\n",
        "        parent[x] = find(parent[x],parent)\n",
        "    return parent[x]\n",
        "\n",
        "def union(u, v, parent):\n",
        "    root_u = find(u,parent)\n",
        "    root_v = find(v,parent)\n",
        "    if root_u != root_v:\n",
        "        parent[root_v] = root_u\n",
        "        return True\n",
        "    return False\n",
        "\n",
        "best_cost=0\n",
        "edges = []\n",
        "\n",
        "\n",
        "for w, u, v, i in l:\n",
        "    if union(u, v,parent)==True:\n",
        "        best_cost += w\n",
        "        edges.append((w, u, v, i))\n",
        "\n",
        "\n",
        "if len(edges)!= n - 1:\n",
        "    print(-1)\n",
        "    exit()\n",
        "\n",
        "second_best = float('inf')\n",
        "\n",
        "for j in edges:\n",
        "    parent = [i for i in range(n + 1)]\n",
        "    cost = 0\n",
        "    c = 0\n",
        "\n",
        "    for w, u, v, i in l:\n",
        "        if i == j[3] : #skipping same edge\n",
        "            continue\n",
        "        if union(u, v, parent)==True:\n",
        "            cost += w\n",
        "            c += 1\n",
        "\n",
        "    if c == n - 1 and cost > best_cost:\n",
        "        second_best = min(second_best, cost)\n",
        "if second_best!= float('inf'):\n",
        "    print(second_best)\n",
        "else:\n",
        "    print(-1)"
      ],
      "metadata": {
        "colab": {
          "base_uri": "https://localhost:8080/"
        },
        "id": "qPF70fU9RTKL",
        "outputId": "b303be12-a0ed-4e11-ac22-fc10a96df898"
      },
      "execution_count": null,
      "outputs": [
        {
          "output_type": "stream",
          "name": "stdout",
          "text": [
            "5 5\n",
            "1 2 3\n",
            "2 3 4\n",
            "3 4 5\n",
            "4 5 1\n",
            "5 1 2\n",
            "11\n"
          ]
        }
      ]
    }
  ]
}