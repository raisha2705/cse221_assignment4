{
  "nbformat": 4,
  "nbformat_minor": 0,
  "metadata": {
    "colab": {
      "provenance": []
    },
    "kernelspec": {
      "name": "python3",
      "display_name": "Python 3"
    },
    "language_info": {
      "name": "python"
    }
  },
  "cells": [
    {
      "cell_type": "markdown",
      "source": [
        "task-A"
      ],
      "metadata": {
        "id": "fU2khZdf3ioM"
      }
    },
    {
      "cell_type": "code",
      "source": [
        "n,m= map(int,input().split())\n",
        "matrix=[[0]*n for i in range(n)]\n",
        "for i in range(m):\n",
        "    u,v,w= map(int,input().split())\n",
        "    matrix[u-1][v-1]=w\n",
        "for row in matrix:\n",
        "    for elem in row:\n",
        "        print(elem, end=' ')\n",
        "    print()\n",
        "\n",
        "#for i in matrix:\n",
        "    #print(\" \".join(map(str,i)))\n"
      ],
      "metadata": {
        "colab": {
          "base_uri": "https://localhost:8080/"
        },
        "id": "CCdtPU1X3czS",
        "outputId": "d11fb291-072a-44fc-a2ba-73a63e5c6c3b"
      },
      "execution_count": null,
      "outputs": [
        {
          "output_type": "stream",
          "name": "stdout",
          "text": [
            "4 3\n",
            "1 3 8\n",
            "3 2 5\n",
            "1 4 2\n",
            "0 0 8 2 \n",
            "0 0 0 0 \n",
            "0 5 0 0 \n",
            "0 0 0 0 \n"
          ]
        }
      ]
    },
    {
      "cell_type": "code",
      "source": [
        "n=4\n",
        "matrix=[[0]*n for i in range(n)]\n",
        "print(matrix)"
      ],
      "metadata": {
        "colab": {
          "base_uri": "https://localhost:8080/"
        },
        "id": "6-KM9ZidLhKI",
        "outputId": "0742350d-383c-4d5e-b154-7a695a2283a1"
      },
      "execution_count": null,
      "outputs": [
        {
          "output_type": "stream",
          "name": "stdout",
          "text": [
            "[[0, 0, 0, 0], [0, 0, 0, 0], [0, 0, 0, 0], [0, 0, 0, 0]]\n"
          ]
        }
      ]
    },
    {
      "cell_type": "code",
      "source": [
        "a=[[2,3],[4,5]]\n",
        "for i in a:\n",
        "    print(\" \".join(map(str,i)))"
      ],
      "metadata": {
        "colab": {
          "base_uri": "https://localhost:8080/"
        },
        "id": "DKLlvWDnNmH9",
        "outputId": "a5c4cd66-28ed-4001-9219-846834cd7260"
      },
      "execution_count": null,
      "outputs": [
        {
          "output_type": "stream",
          "name": "stdout",
          "text": [
            "2 3\n",
            "4 5\n"
          ]
        }
      ]
    },
    {
      "cell_type": "markdown",
      "source": [],
      "metadata": {
        "id": "AYK8gWdTjd0U"
      }
    },
    {
      "cell_type": "markdown",
      "source": [
        "task-B"
      ],
      "metadata": {
        "id": "KLVGH-Aa8GVi"
      }
    },
    {
      "cell_type": "code",
      "source": [
        "n,m= map(int,input().split())\n",
        "u=list(map(int,input().split()))\n",
        "v=list(map(int,input().split()))\n",
        "w=list(map(int,input().split()))\n",
        "\n",
        "d={i: [] for i in range(1,n+1)}\n",
        "\n",
        "for i in range(m):\n",
        "    d[u[i]].append((v[i],w[i]))\n",
        "\n",
        "for i in range(1,n+1):\n",
        "    print(f'{i}:',end= \" \")\n",
        "    for value in d[i]:\n",
        "        print(f'{value}',end=\" \")\n",
        "    print()"
      ],
      "metadata": {
        "colab": {
          "base_uri": "https://localhost:8080/"
        },
        "id": "o1KHvG1D8HwG",
        "outputId": "551a599d-bdde-4942-c218-8e8066080e33"
      },
      "execution_count": null,
      "outputs": [
        {
          "output_type": "stream",
          "name": "stdout",
          "text": [
            "4 5 \n",
            "4 1 4 3 3 \n",
            "3 2 2 2 1\n",
            "4 4 10 8 5\n",
            "1: (2, 4) \n",
            "2: \n",
            "3: (2, 8) (1, 5) \n",
            "4: (3, 4) (2, 10) \n"
          ]
        }
      ]
    },
    {
      "cell_type": "markdown",
      "source": [],
      "metadata": {
        "id": "_J5rkPZA3caB"
      }
    },
    {
      "cell_type": "markdown",
      "source": [
        "task-C"
      ],
      "metadata": {
        "id": "jd7PM1SHF6re"
      }
    },
    {
      "cell_type": "code",
      "source": [
        "n=int(input())\n",
        "matrix= [[0]*n for i in range(n)]\n",
        "\n",
        "for i in range(n):\n",
        "    l=list(map(int,input().split()))\n",
        "    c_c=l[0] #connection count\n",
        "    l1=l[1:]\n",
        "    for j in l1:\n",
        "        matrix[i][j]=1\n",
        "\n",
        "for row in matrix:\n",
        "    for elem in row:\n",
        "        print(elem, end=' ')\n",
        "    print()\n"
      ],
      "metadata": {
        "colab": {
          "base_uri": "https://localhost:8080/"
        },
        "id": "PSSCDoB-F74j",
        "outputId": "5e82478e-4691-4189-cabd-1b93991db525"
      },
      "execution_count": null,
      "outputs": [
        {
          "output_type": "stream",
          "name": "stdout",
          "text": [
            "5\n",
            "2 1 2\n",
            "1 0\n",
            "1 0\n",
            "1 4\n",
            "1 3\n",
            "0 1 1 0 0 \n",
            "1 0 0 0 0 \n",
            "1 0 0 0 0 \n",
            "0 0 0 0 1 \n",
            "0 0 0 1 0 \n"
          ]
        }
      ]
    },
    {
      "cell_type": "markdown",
      "source": [
        "task-D"
      ],
      "metadata": {
        "id": "zEWPJkfOdRgN"
      }
    },
    {
      "cell_type": "code",
      "source": [
        "print([0]*5)"
      ],
      "metadata": {
        "colab": {
          "base_uri": "https://localhost:8080/"
        },
        "id": "B1zUaVyAd1T-",
        "outputId": "2718978d-299d-4ee1-8b34-9352bb82a455"
      },
      "execution_count": null,
      "outputs": [
        {
          "output_type": "stream",
          "name": "stdout",
          "text": [
            "[0, 0, 0, 0, 0]\n"
          ]
        }
      ]
    },
    {
      "cell_type": "code",
      "source": [
        "n,m= map(int,input().split())\n",
        "u= list(map(int,input().split()))\n",
        "v= list(map(int,input().split()))\n",
        "\n",
        "d= [0]*(n+1)\n",
        "\n",
        "for i in range(m):\n",
        "    d[u[i]]+=1\n",
        "    d[v[i]]+=1\n",
        "\n",
        "c=0 #degree count\n",
        "for i in range(1,len(d)):\n",
        "    if d[i]%2!=0:\n",
        "        c+=1\n",
        "if c==0 or c==2:\n",
        "    print(\"YES\")\n",
        "else:\n",
        "    print(\"NO\")\n"
      ],
      "metadata": {
        "colab": {
          "base_uri": "https://localhost:8080/"
        },
        "id": "O8TeIGIng_nR",
        "outputId": "cd6fed5f-4e60-4219-9579-6b4f69003672"
      },
      "execution_count": null,
      "outputs": [
        {
          "output_type": "stream",
          "name": "stdout",
          "text": [
            "5 10\n",
            "5 5 5 2 2 2 3 3 4 2\n",
            "2 3 1 3 4 1 4 1 2 4\n",
            "YES\n"
          ]
        }
      ]
    },
    {
      "cell_type": "markdown",
      "source": [
        "task-E"
      ],
      "metadata": {
        "id": "kxaO6qbwjfaM"
      }
    },
    {
      "cell_type": "code",
      "source": [
        "n,m= map(int,input().split())\n",
        "u= list(map(int,input().split()))\n",
        "v= list(map(int,input().split()))\n",
        "\n",
        "in_d= [0]*(n+1) #degree o to 5\n",
        "out_d= [0]*(n+1)\n",
        "\n",
        "for i in range(m):\n",
        "    out_d[u[i]]+=1\n",
        "    in_d[v[i]]+=1\n",
        "\n",
        "for i in range(1,n+1):\n",
        "    difference= in_d[i]- out_d[i]\n",
        "    print(difference,end=\" \")\n"
      ],
      "metadata": {
        "colab": {
          "base_uri": "https://localhost:8080/"
        },
        "id": "Aw8Jq5pwjg3K",
        "outputId": "89720034-8f52-4a1c-f2f0-64141ee61c98"
      },
      "execution_count": null,
      "outputs": [
        {
          "output_type": "stream",
          "name": "stdout",
          "text": [
            "5 10\n",
            "2 5 4 3 2 4 3 4 1 3\n",
            "5 1 5 5 1 2 2 1 3 4\n",
            "2 0 -2 -2 2 "
          ]
        }
      ]
    },
    {
      "cell_type": "markdown",
      "source": [
        "task-G"
      ],
      "metadata": {
        "id": "BOuu3qMlsHXa"
      }
    },
    {
      "cell_type": "code",
      "source": [
        "import math\n",
        "N,Q= map(int,input().split())\n",
        "neighbours= [[] for i in range(N+1)]\n",
        "\n",
        "for i in range(1,N+1):       #coprime neighbour nicchi\n",
        "    for j in range(1,N+1):    #1 to 6\n",
        "        if i!=j and math.gcd(i,j)==1:\n",
        "            neighbours[i].append(j)\n",
        "    neighbours[i].sort()\n",
        "\n",
        "result=[]\n",
        "for i in range(Q):  #query part\n",
        "    X,K= map(int,input().split())\n",
        "\n",
        "    if K>len(neighbours[X]):\n",
        "        result.append(-1)\n",
        "    else:\n",
        "        result.append(neighbours[X][K-1]) #0 based index\n",
        "\n",
        "for i in result:\n",
        "    print(i)\n",
        "\n",
        "\n",
        "\n",
        "\n",
        "\n"
      ],
      "metadata": {
        "colab": {
          "base_uri": "https://localhost:8080/"
        },
        "id": "9eZ2VnxisIkK",
        "outputId": "45dc0ad7-9a62-4318-8b2c-ac250105d3ef"
      },
      "execution_count": null,
      "outputs": [
        {
          "output_type": "stream",
          "name": "stdout",
          "text": [
            "1 1\n",
            "1 1 \n",
            "-1\n"
          ]
        }
      ]
    },
    {
      "cell_type": "markdown",
      "source": [
        "TASK-F"
      ],
      "metadata": {
        "id": "82N2lJz0C3Pg"
      }
    },
    {
      "cell_type": "code",
      "source": [
        "n=int(input())\n",
        "x,y= map(int,input().split())\n",
        "\n",
        "valid_moves= [(-1,-1),(-1,0),(-1,1),(0,-1),(0,1),(1,-1),(1,0),(1,1)]\n",
        "result=[]\n",
        "for dx,dy in valid_moves:\n",
        "    new_x=x+dx\n",
        "    new_y=y+dy\n",
        "    if 1<=new_x<=n and 1<=new_y<=n:\n",
        "        result.append((new_x,new_y))\n",
        "result.sort()\n",
        "print(len(result))\n",
        "for i in result:\n",
        "    print(i[0] ,i[1])"
      ],
      "metadata": {
        "colab": {
          "base_uri": "https://localhost:8080/"
        },
        "id": "CKctbBzfC4cW",
        "outputId": "83116909-6dd5-4eaa-9552-8f38f8fbc415"
      },
      "execution_count": null,
      "outputs": [
        {
          "output_type": "stream",
          "name": "stdout",
          "text": [
            "8\n",
            "1 1\n",
            "3\n",
            "1 2\n",
            "2 1\n",
            "2 2\n"
          ]
        }
      ]
    }
  ]
}