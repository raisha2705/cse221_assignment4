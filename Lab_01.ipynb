{
  "nbformat": 4,
  "nbformat_minor": 0,
  "metadata": {
    "colab": {
      "provenance": []
    },
    "kernelspec": {
      "name": "python3",
      "display_name": "Python 3"
    },
    "language_info": {
      "name": "python"
    }
  },
  "cells": [
    {
      "cell_type": "code",
      "execution_count": null,
      "metadata": {
        "id": "jGfz3dYk8czY"
      },
      "outputs": [],
      "source": []
    },
    {
      "cell_type": "markdown",
      "source": [
        "task-A"
      ],
      "metadata": {
        "id": "5pXNAqEz826b"
      }
    },
    {
      "cell_type": "code",
      "source": [
        "l=[]\n",
        "a=int(input())\n",
        "for i in range(a):\n",
        "    x=int(input())\n",
        "    l.append(x)\n",
        "for i in l:\n",
        "    if i%2==0:\n",
        "        print(f'{i} is an Even number.')\n",
        "    else:\n",
        "        print(f'{i} is an Odd number.')\n"
      ],
      "metadata": {
        "colab": {
          "base_uri": "https://localhost:8080/"
        },
        "id": "yCmIrF7a85V5",
        "outputId": "03908f0f-1422-40d0-df74-84fa3bafd3e0"
      },
      "execution_count": null,
      "outputs": [
        {
          "output_type": "stream",
          "name": "stdout",
          "text": [
            "5\n",
            "10\n",
            "19\n",
            "7\n",
            "3\n",
            "100\n",
            "10 is an Even number\n",
            "19 is an Odd number\n",
            "7 is an Odd number\n",
            "3 is an Odd number\n",
            "100 is an Even number\n"
          ]
        }
      ]
    },
    {
      "cell_type": "markdown",
      "source": [
        "task-B"
      ],
      "metadata": {
        "id": "iHMyoh2l-Cbf"
      }
    },
    {
      "cell_type": "code",
      "source": [
        "x=int(input())\n",
        "for i in range(x):\n",
        "    y=input()\n",
        "    y=y.split()\n",
        "    if y[2]== \"+\":\n",
        "        result=int(y[1])+int(y[3])\n",
        "    elif y[2]== \"-\":\n",
        "        result=int(y[1])-int(y[3])\n",
        "    elif y[2]==\"*\":\n",
        "        result= int(y[1]) * int(y[3])\n",
        "    elif y[2]==\"/\":\n",
        "        result= int(y[1])/int(y[3])\n",
        "    result1=float(result)\n",
        "    final_result= format(result1, \".6f\")\n",
        "    print(final_result)"
      ],
      "metadata": {
        "colab": {
          "base_uri": "https://localhost:8080/"
        },
        "id": "1S4rDzc--EDa",
        "outputId": "56e11e2c-12ce-4e89-d29f-1067fc1e0bb0"
      },
      "execution_count": null,
      "outputs": [
        {
          "output_type": "stream",
          "name": "stdout",
          "text": [
            "1\n",
            "calculate 99 - 95\n",
            "4.00000\n"
          ]
        }
      ]
    },
    {
      "cell_type": "markdown",
      "source": [
        "task-C"
      ],
      "metadata": {
        "id": "gqCBZC4yuh8m"
      }
    },
    {
      "cell_type": "code",
      "source": [
        "x=input().split()\n",
        "y=input().split()\n",
        "\n",
        "#x=x.split()\n",
        "n=int(x[1])\n",
        "#y=y.split()\n",
        "\n",
        "l2=[]\n",
        "count=0\n",
        "for i in y:\n",
        "    if count<n:\n",
        "        l2.append(int(i))\n",
        "        count+=1\n",
        "#print(l2)\n",
        "#for i in range(len(l2)-1,-1,-1):  #l2[::-1]\n",
        "   # print(l2[i],end=\" \")\n",
        "l3=l2[::-1]\n",
        "for i in l3:\n",
        "    print(i,end=\" \")\n",
        "\n",
        "\n"
      ],
      "metadata": {
        "colab": {
          "base_uri": "https://localhost:8080/"
        },
        "id": "c0CTlDN0ukgY",
        "outputId": "6fb067bc-bb3a-414e-b832-950f37670f47"
      },
      "execution_count": null,
      "outputs": [
        {
          "output_type": "stream",
          "name": "stdout",
          "text": [
            "5 3\n",
            "5 6 7 8 9\n",
            "7 6 5 "
          ]
        }
      ]
    },
    {
      "cell_type": "code",
      "source": [
        "x=input().split()\n",
        "y=input().split()\n",
        "n=int(x[1])\n",
        "l2=y[:n:]\n",
        "l3=l2[::-1]\n",
        "for i in l3:\n",
        "    print(i,end=\" \")"
      ],
      "metadata": {
        "colab": {
          "base_uri": "https://localhost:8080/"
        },
        "id": "gbog69kKDAKH",
        "outputId": "0015515b-127c-4328-cefc-b11353276ca4"
      },
      "execution_count": null,
      "outputs": [
        {
          "output_type": "stream",
          "name": "stdout",
          "text": [
            "5 3\n",
            "5 6 7 8\n",
            "7 6 5 "
          ]
        }
      ]
    },
    {
      "cell_type": "markdown",
      "source": [],
      "metadata": {
        "id": "uniHAac8F0Vs"
      }
    },
    {
      "cell_type": "markdown",
      "source": [
        "task-D"
      ],
      "metadata": {
        "id": "ypX5E2MQF1oQ"
      }
    },
    {
      "cell_type": "code",
      "source": [
        "x=int(input())\n",
        "for i in range(x):\n",
        "    n=int(input())\n",
        "    result= n*(n+1)//2\n",
        "    print(result)"
      ],
      "metadata": {
        "id": "8W-rHpQ6b3Yj"
      },
      "execution_count": null,
      "outputs": []
    },
    {
      "cell_type": "markdown",
      "source": [
        "task-E"
      ],
      "metadata": {
        "id": "8r_upBfHHDk2"
      }
    },
    {
      "cell_type": "code",
      "source": [
        "def bubbleSort(y):\n",
        "    for i in range(len(y)-1):\n",
        "        swp= False\n",
        "        for j in range(len(y)-i-1):\n",
        "            if y[j] > y[j+1]:\n",
        "                y[j], y[j+1] = y[j+1], y[j]\n",
        "                swp= True\n",
        "        if swp==False:\n",
        "            break\n",
        "\n",
        "    #print(arr)\n",
        "\n",
        "x=int(input())\n",
        "y=list(map(int,input().split()))\n",
        "bubbleSort(y)\n",
        "for i in y:\n",
        "    print(i,end=\" \")"
      ],
      "metadata": {
        "colab": {
          "base_uri": "https://localhost:8080/"
        },
        "id": "5GQyLswcGvAn",
        "outputId": "8026ef6d-560e-4b3e-c43f-9a66cae6d583"
      },
      "execution_count": null,
      "outputs": [
        {
          "output_type": "stream",
          "name": "stdout",
          "text": [
            "5\n",
            "3 2 1 4 5\n",
            "1 2 3 4 5 "
          ]
        }
      ]
    },
    {
      "cell_type": "markdown",
      "source": [
        "task-F"
      ],
      "metadata": {
        "id": "6JRZni-7T9CH"
      }
    },
    {
      "cell_type": "code",
      "source": [
        "x=int(input())\n",
        "id=list(map(int,input().split()))\n",
        "mark=list(map(int,input().split()))\n",
        "tup = list(zip(id, mark))\n",
        "\n",
        "def mark_distribution(tup):\n",
        "    count=0\n",
        "\n",
        "    for i in range(len(tup)):\n",
        "        max=i\n",
        "        for j in range(i+1,len(tup)):\n",
        "            if tup[j][1]>tup[max][1]:\n",
        "                max= j\n",
        "            elif tup[j][1]==tup[max][1] and tup[j][0]<tup[max][0]:\n",
        "                max= j\n",
        "        if max !=i :\n",
        "            tup[i],tup[max]= tup[max], tup[i]\n",
        "            count+=1\n",
        "    return count\n",
        "\n",
        "\n",
        "result= mark_distribution(tup)\n",
        "print(f\"Minimum swaps: {result}\")\n",
        "for i in tup:\n",
        "    print(f\"ID: {i[0]} Mark: {i[1]}\")\n",
        "\n",
        "\n"
      ],
      "metadata": {
        "colab": {
          "base_uri": "https://localhost:8080/"
        },
        "id": "-iNU0y0ST-SU",
        "outputId": "71ff6aab-ab91-4f76-9195-226d835fbd5b"
      },
      "execution_count": null,
      "outputs": [
        {
          "output_type": "stream",
          "name": "stdout",
          "text": [
            "7\n",
            "7 4 9 3 2 5 1\n",
            "40 50 50 20 10 10 10\n",
            "Minimum swaps: 4\n",
            "ID: 4 Mark: 50\n",
            "ID: 9 Mark: 50\n",
            "ID: 7 Mark: 40\n",
            "ID: 3 Mark: 20\n",
            "ID: 1 Mark: 10\n",
            "ID: 2 Mark: 10\n",
            "ID: 5 Mark: 10\n"
          ]
        }
      ]
    },
    {
      "cell_type": "code",
      "source": [
        "id=list(map(int,input().split()))\n",
        "mark=list(map(int,input().split()))\n",
        "tup = list(zip(id, mark))\n",
        "print(tup)"
      ],
      "metadata": {
        "colab": {
          "base_uri": "https://localhost:8080/"
        },
        "id": "D304yXVPnaIC",
        "outputId": "0f5ab527-bb3c-4d42-eb24-d93f901bf10a"
      },
      "execution_count": null,
      "outputs": [
        {
          "output_type": "stream",
          "name": "stdout",
          "text": [
            "7 4 9 3 2 5 1\n",
            "40 50 50 20 10 10 10\n",
            "[(7, 40), (4, 50), (9, 50), (3, 20), (2, 10), (5, 10), (1, 10)]\n"
          ]
        }
      ]
    },
    {
      "cell_type": "markdown",
      "source": [
        "task-G"
      ],
      "metadata": {
        "id": "xRJ5u9_OeV1_"
      }
    },
    {
      "cell_type": "code",
      "source": [
        "def helper(l):\n",
        "    for i in range(1, len(l)):\n",
        "        key = l[i]\n",
        "        j = i - 1\n",
        "\n",
        "        while j >= 0 and (\n",
        "            l[j][0] > key[0] or\n",
        "            (l[j][0] == key[0] and l[j][1] < key[1])\n",
        "        ):\n",
        "            l[j + 1], l[j]= l[j],l[j+1]\n",
        "            j -= 1\n",
        "\n",
        "        l[j + 1] = key\n",
        "\n",
        "n=int(input())\n",
        "l=[]\n",
        "for i in range(n):\n",
        "    x=input()\n",
        "    name,time = x.rsplit(\" \",6)[0], x.rsplit(\" \",1)[1]\n",
        "    hour,min= map(int,time.split(\":\"))\n",
        "    l.append((name, hour*60+min, x))\n",
        "\n",
        "helper(l)\n",
        "\n",
        "for i in l:\n",
        "    print(i[2])\n"
      ],
      "metadata": {
        "colab": {
          "base_uri": "https://localhost:8080/"
        },
        "id": "7w4ivQsSeXTy",
        "outputId": "1c27943b-1eb5-4590-d952-19cec09c23cf"
      },
      "execution_count": null,
      "outputs": [
        {
          "output_type": "stream",
          "name": "stdout",
          "text": [
            "8\n",
            "ABCD will departure for Mymensingh at 00:30\n",
            "DhumketuExpress will departure for Chittagong at 02:30\n",
            "ABC will departure for Dhaka at 17:30\n",
            "ABCD will departure for Chittagong at 01:00\n",
            "ABC will departure for Khulna at 03:00\n",
            "ABC will departure for Barisal at 03:00\n",
            "ABCE will departure for Sylhet at 23:05\n",
            "PadmaExpress will departure for Dhaka at 19:30\n",
            "ABC will departure for Dhaka at 17:30\n",
            "ABC will departure for Khulna at 03:00\n",
            "ABC will departure for Barisal at 03:00\n",
            "ABCD will departure for Chittagong at 01:00\n",
            "ABCD will departure for Mymensingh at 00:30\n",
            "ABCE will departure for Sylhet at 23:05\n",
            "DhumketuExpress will departure for Chittagong at 02:30\n",
            "PadmaExpress will departure for Dhaka at 19:30\n"
          ]
        }
      ]
    },
    {
      "cell_type": "code",
      "source": [
        "def helper(l):\n",
        "    for i in range(len(l)):\n",
        "        max = i\n",
        "        for j in range(i+1, len(l)):\n",
        "            if l[j][0] < l[max][0]:\n",
        "                max = j\n",
        "            elif l[j][0] == l[max][0] and l[j][1] > l[max][1]:\n",
        "                max = j\n",
        "            elif l[j][0] == l[max][0] and l[j][1] == l[max][1] and j < max:\n",
        "                max = j\n",
        "        if max != i:\n",
        "            l[i], l[max] = l[max], l[i]\n",
        "\n",
        "n = int(input())\n",
        "l = []\n",
        "\n",
        "for i in range(n):\n",
        "    x = input().strip()\n",
        "    name, time = x.rsplit(\" \", 6)[0], x.rsplit(\" \", 1)[1]\n",
        "    hour, min = map(int, time.split(\":\"))\n",
        "    l.append((name, hour * 60 + min, x))\n",
        "\n",
        "helper(l)\n",
        "\n",
        "for i in l:\n",
        "    print(i[2])\n",
        "\n"
      ],
      "metadata": {
        "colab": {
          "base_uri": "https://localhost:8080/"
        },
        "id": "iev2-a5AmoFs",
        "outputId": "f00b0f3b-b8fb-4860-d61c-24d9b3155ced"
      },
      "execution_count": null,
      "outputs": [
        {
          "output_type": "stream",
          "name": "stdout",
          "text": [
            "8\n",
            "ABCD will departure for Mymensingh at 00:30\n",
            "DhumketuExpress will departure for Chittagong at 02:30\n",
            "ABC will departure for Dhaka at 17:30\n",
            "ABCD will departure for Chittagong at 01:00\n",
            "ABC will departure for Khulna at 03:00\n",
            "ABC will departure for Barisal at 03:00\n",
            "ABCE will departure for Sylhet at 23:05\n",
            "PadmaExpress will departure for Dhaka at 19:30\n",
            "ABC will departure for Dhaka at 17:30\n",
            "ABC will departure for Khulna at 03:00\n",
            "ABC will departure for Barisal at 03:00\n",
            "ABCD will departure for Chittagong at 01:00\n",
            "ABCD will departure for Mymensingh at 00:30\n",
            "ABCE will departure for Sylhet at 23:05\n",
            "DhumketuExpress will departure for Chittagong at 02:30\n",
            "PadmaExpress will departure for Dhaka at 19:30\n"
          ]
        }
      ]
    }
  ]
}