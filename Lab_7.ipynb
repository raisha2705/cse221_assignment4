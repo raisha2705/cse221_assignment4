{
  "nbformat": 4,
  "nbformat_minor": 0,
  "metadata": {
    "colab": {
      "provenance": []
    },
    "kernelspec": {
      "name": "python3",
      "display_name": "Python 3"
    },
    "language_info": {
      "name": "python"
    }
  },
  "cells": [
    {
      "cell_type": "markdown",
      "source": [
        "TASK-A"
      ],
      "metadata": {
        "id": "DSYgFdE9jyBi"
      }
    },
    {
      "cell_type": "code",
      "execution_count": null,
      "metadata": {
        "colab": {
          "base_uri": "https://localhost:8080/"
        },
        "id": "szfVdOu5jbW9",
        "outputId": "478e8487-5481-4fe2-c38e-d6bab45e3087"
      },
      "outputs": [
        {
          "output_type": "stream",
          "name": "stdout",
          "text": [
            "4 3 4 2\n",
            "1 3 4\n",
            "2 2 3\n",
            "3 4 5\n",
            "9\n",
            "4 3 2 "
          ]
        }
      ],
      "source": [
        "import heapq\n",
        "\n",
        "def helper(n,g,s,d):\n",
        "    distance = [float('inf')]*(n+1)\n",
        "    parent=[-1]*(n+1)\n",
        "\n",
        "    distance[s]=0\n",
        "    p_q=[(0,s)] #distance,node\n",
        "\n",
        "    while p_q:\n",
        "        d_u,u = heapq.heappop(p_q) #distance of u , u\n",
        "        for v,w in g[u]:\n",
        "            if distance[u]+w < distance[v]:\n",
        "                distance[v]=distance[u]+w\n",
        "                parent[v]=u\n",
        "                heapq.heappush(p_q,(distance[v],v))\n",
        "\n",
        "    if distance[d] == float('inf'):\n",
        "        return -1, []\n",
        "\n",
        "    path=[]\n",
        "    curr= d\n",
        "    while curr!= s:\n",
        "        path.append(curr)\n",
        "        curr= parent[curr]\n",
        "    path.append(s)\n",
        "    path.reverse()\n",
        "\n",
        "    return distance[d],path\n",
        "\n",
        "\n",
        "\n",
        "\n",
        "n,m,s,d = map(int,input().split())\n",
        "u_list = list(map(int,input().split()))\n",
        "v_list = list(map(int,input().split()))\n",
        "w_list = list(map(int,input().split()))\n",
        "\n",
        "graph={}\n",
        "for i in range(1,n+1):\n",
        "    graph[i] = []\n",
        "\n",
        "for i in range(m):\n",
        "    u,v,w = u_list[i], v_list[i],w_list[i]\n",
        "    graph[u].append((v,w))\n",
        "\n",
        "distance,path = helper(n,graph,s,d)\n",
        "\n",
        "if distance == -1:\n",
        "    print(-1)\n",
        "else:\n",
        "    print(distance)\n",
        "    for i in path:\n",
        "        print(i,end=\" \")\n"
      ]
    },
    {
      "cell_type": "markdown",
      "source": [
        "TASK-B"
      ],
      "metadata": {
        "id": "kpEBOfjc9Vas"
      }
    },
    {
      "cell_type": "code",
      "source": [
        "import heapq\n",
        "\n",
        "def helper(n,g,s):\n",
        "    distance= [float('inf')]*(n+1)\n",
        "    parent=[-1]*(n+1)\n",
        "    distance[s]=0\n",
        "    p_q=[(0,s)] #distance,node\n",
        "\n",
        "    while p_q:\n",
        "        d_u,u = heapq.heappop(p_q)\n",
        "        for v,w in g[u]:\n",
        "            if distance[u]+w < distance[v]:\n",
        "                distance[v]=distance[u]+w\n",
        "                heapq.heappush(p_q,(distance[v],v))\n",
        "\n",
        "    return distance #list of every node's distance\n",
        "\n",
        "\n",
        "n, m, s, t = map(int, input().split())\n",
        "graph = {i: [] for i in range(1, n + 1)}\n",
        "for i in range(m):\n",
        "    u, v, w = map(int, input().split())\n",
        "    graph[u].append((v, w))\n",
        "\n",
        "alice_distance = helper(n,graph,s)\n",
        "bob_distance = helper(n,graph,t)\n",
        "\n",
        "meeting_time = float('inf')\n",
        "meeting_node = -1\n",
        "\n",
        "for i in range(1,n+1):\n",
        "    alice_time = alice_distance[i]\n",
        "    bob_time = bob_distance[i]\n",
        "    if alice_time < float('inf') and bob_time < float('inf'):\n",
        "        final_time = max(alice_time,bob_time)\n",
        "        if final_time < meeting_time:\n",
        "            meeting_time = final_time\n",
        "            meeting_node = i\n",
        "        elif meeting_time == final_time:\n",
        "            if i < meeting_node:\n",
        "                meeting_node = i\n",
        "\n",
        "if meeting_node == -1:\n",
        "    print(-1)\n",
        "else:\n",
        "    print(meeting_time,meeting_node)\n",
        "\n"
      ],
      "metadata": {
        "colab": {
          "base_uri": "https://localhost:8080/"
        },
        "id": "W8vqwrC49XBz",
        "outputId": "8dc33a4b-7942-4956-84f9-e117dcbb2310"
      },
      "execution_count": null,
      "outputs": [
        {
          "output_type": "stream",
          "name": "stdout",
          "text": [
            "2 1 2 2\n",
            "2 1 7\n",
            "0 2\n"
          ]
        }
      ]
    },
    {
      "cell_type": "markdown",
      "source": [
        "TASK-C"
      ],
      "metadata": {
        "id": "e-uiQFojG_fQ"
      }
    },
    {
      "cell_type": "code",
      "source": [
        "import heapq\n",
        "\n",
        "def helper(n,g):\n",
        "    danger = [float('inf')]*(n+1)\n",
        "    danger[1]=0\n",
        "    p_q=[(0,1)] #distance,node\n",
        "\n",
        "    while p_q:\n",
        "        curr_d,u = heapq.heappop(p_q) #current danger of u, u\n",
        "        for v,w in g[u]:\n",
        "            new_d = max(curr_d,w)\n",
        "            if new_d < danger[v]:\n",
        "                danger[v]=new_d\n",
        "                heapq.heappush(p_q,(new_d,v))\n",
        "    result = []\n",
        "    for i in range(1, n + 1):\n",
        "        if danger[i] != float('inf'):\n",
        "            result.append(danger[i])\n",
        "        else:\n",
        "            result.append(-1)\n",
        "    return result\n",
        "\n",
        "\n",
        "\n",
        "n,m = map(int,input().split())\n",
        "graph = {i: [] for i in range(1,n+1)}\n",
        "for i in range(m):\n",
        "    u,v,w = map(int,input().split())\n",
        "    graph[u].append((v,w))\n",
        "    graph[v].append((u,w))\n",
        "\n",
        "result = helper(n,graph)\n",
        "for i in result:\n",
        "    print(i,end=\" \")\n"
      ],
      "metadata": {
        "colab": {
          "base_uri": "https://localhost:8080/"
        },
        "id": "3dwAueqFHB4p",
        "outputId": "195f2ff6-d29d-467e-c34a-528c17dd6abf"
      },
      "execution_count": null,
      "outputs": [
        {
          "output_type": "stream",
          "name": "stdout",
          "text": [
            "2 1\n",
            "2 1 5\n",
            "0 5 "
          ]
        }
      ]
    },
    {
      "cell_type": "markdown",
      "source": [
        "TASK-D"
      ],
      "metadata": {
        "id": "tGBv7u-eS1Ks"
      }
    },
    {
      "cell_type": "code",
      "source": [
        "import heapq\n",
        "\n",
        "def helper(g,s,d):\n",
        "    distance = [float('inf')]*(n+1)\n",
        "    distance[s] = n_w[s-1]\n",
        "    p_q=[(distance[s],s)] #distance,node\n",
        "    while p_q:\n",
        "        cost,u = heapq.heappop(p_q)\n",
        "        for v in g[u]:\n",
        "            new_cost = cost + n_w[v-1]\n",
        "            if new_cost < distance[v]:\n",
        "                distance[v] = new_cost\n",
        "                heapq.heappush(p_q,(new_cost,v))\n",
        "    if distance[d]==float('inf'):\n",
        "        return -1\n",
        "    else:\n",
        "        return distance[d]\n",
        "\n",
        "\n",
        "n,m,s,d = map(int,input().split())\n",
        "n_w = list(map(int,input().split())) #node weight\n",
        "graph = {i: [] for i in range(1,n+1)}\n",
        "for i in range(m):\n",
        "    u,v = map(int,input().split())\n",
        "    graph[u].append(v)\n",
        "print(helper(graph,s,d))"
      ],
      "metadata": {
        "colab": {
          "base_uri": "https://localhost:8080/"
        },
        "id": "1AphWQxzS20V",
        "outputId": "61e6e555-1f1f-498b-bcf0-b17a4661eae0"
      },
      "execution_count": null,
      "outputs": [
        {
          "output_type": "stream",
          "name": "stdout",
          "text": [
            "2 1 1 1\n",
            "7 6\n",
            "2 1\n",
            "7\n"
          ]
        }
      ]
    },
    {
      "cell_type": "markdown",
      "source": [
        "TASK-E"
      ],
      "metadata": {
        "id": "vGIgDfnlWvXp"
      }
    },
    {
      "cell_type": "code",
      "source": [
        "import heapq\n",
        "\n",
        "n,m = map(int,input().split())\n",
        "u_list = list(map(int,input().split()))\n",
        "v_list = list(map(int,input().split()))\n",
        "w_list = list(map(int,input().split()))\n",
        "\n",
        "graph = {i: [] for i in range(1,n+1)}\n",
        "for i in range(m):\n",
        "    u,v,w = u_list[i],v_list[i],w_list[i]\n",
        "    graph[u].append((v,w))\n",
        "\n",
        "x= float('inf')\n",
        "distance = [[x,x] for i in range(n+1)]\n",
        "s_node = 1\n",
        "distance[s_node][0]=0\n",
        "distance[s_node][1]=0\n",
        "p_q=[(0,s_node,-1)] #distance,starting node, prev parity\n",
        "\n",
        "while p_q: #priority queue\n",
        "    d_u,u,p_p = heapq.heappop(p_q) #distance of u , u , prev parity\n",
        "    for v,w in graph[u]:\n",
        "        c_p = w%2  #curr parity\n",
        "        if p_p == -1 or c_p != p_p:\n",
        "            if d_u + w < distance[v][c_p]:\n",
        "                distance[v][c_p] = d_u + w\n",
        "                heapq.heappush(p_q,(d_u + w,v,c_p))\n",
        "result = min(distance[n])\n",
        "if result == float('inf'):\n",
        "    print(-1)\n",
        "else:\n",
        "    print(result)\n",
        "\n"
      ],
      "metadata": {
        "id": "QV9GbYd0Wxzo",
        "colab": {
          "base_uri": "https://localhost:8080/"
        },
        "outputId": "6c6c5d36-94df-4b48-e695-cc7e2bb24d40"
      },
      "execution_count": null,
      "outputs": [
        {
          "output_type": "stream",
          "name": "stdout",
          "text": [
            "2 1\n",
            "2 \n",
            "1\n",
            "7\n",
            "-1\n"
          ]
        }
      ]
    },
    {
      "cell_type": "markdown",
      "source": [
        "TASK-F"
      ],
      "metadata": {
        "id": "iiMV6-YJdUw3"
      }
    },
    {
      "cell_type": "code",
      "source": [
        "import heapq\n",
        "\n",
        "n,m,s,d = map(int,input().split())\n",
        "graph = {i: [] for i in range(1,n+1)}\n",
        "for i in range(m):\n",
        "    u,v,w = map(int,input().split())\n",
        "    graph[u].append((v,w))\n",
        "    graph[v].append((u,w))\n",
        "\n",
        "distance = [[float('inf'), float('inf')] for i in range(n + 1)]\n",
        "distance[s][0] = 0\n",
        "p_q = [(0,s)] #curr distance and source\n",
        "\n",
        "while p_q:\n",
        "    d_u,u = heapq.heappop(p_q)\n",
        "\n",
        "    for v,w in graph[u]:\n",
        "        new_distance = d_u + w\n",
        "        if new_distance < distance[v][0]:\n",
        "            distance[v][1] = distance[v][0]\n",
        "            distance[v][0] = new_distance\n",
        "            heapq.heappush(p_q,(new_distance, v))\n",
        "        if distance[v][0]< new_distance < distance[v][1] :\n",
        "            distance[v][1] = new_distance\n",
        "            heapq.heappush(p_q,(new_distance, v))\n",
        "\n",
        "if distance[d][1] == float('inf'):\n",
        "    print(-1)\n",
        "else:\n",
        "    print(distance[d][1])\n",
        "\n"
      ],
      "metadata": {
        "colab": {
          "base_uri": "https://localhost:8080/"
        },
        "id": "CcwjPHYVdWH2",
        "outputId": "560f6fd5-0112-43de-bf76-5171bb2c8a2d"
      },
      "execution_count": null,
      "outputs": [
        {
          "output_type": "stream",
          "name": "stdout",
          "text": [
            "2 1 2 2 \n",
            "2 1 5\n",
            "10\n"
          ]
        }
      ]
    }
  ]
}