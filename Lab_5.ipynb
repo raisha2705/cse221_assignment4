{
  "nbformat": 4,
  "nbformat_minor": 0,
  "metadata": {
    "colab": {
      "provenance": []
    },
    "kernelspec": {
      "name": "python3",
      "display_name": "Python 3"
    },
    "language_info": {
      "name": "python"
    }
  },
  "cells": [
    {
      "cell_type": "code",
      "execution_count": null,
      "metadata": {
        "id": "OpvmVatw_3DZ"
      },
      "outputs": [],
      "source": []
    },
    {
      "cell_type": "markdown",
      "source": [
        "TASK-A"
      ],
      "metadata": {
        "id": "2mObI7gw_-gH"
      }
    },
    {
      "cell_type": "code",
      "source": [
        "n,m=map(int,input().split())\n",
        "edges=[]\n",
        "for i in range(m):\n",
        "    u,v= map(int,input().split())\n",
        "    edges.append((u,v))\n",
        "\n",
        "graph=[[] for i in range(n+1)]\n",
        "for u,v in edges:\n",
        "    graph[u].append(v)\n",
        "    graph[v].append(u)\n",
        "\n",
        "track=[0]*(n+1) # 0 mane unvisited\n",
        "q=[]\n",
        "result=[]\n",
        "\n",
        "q.append(1)\n",
        "track[1]=1\n",
        "\n",
        "idx=0\n",
        "while idx<len(q):\n",
        "    curr=q[idx]\n",
        "    result.append(curr)\n",
        "    idx+=1\n",
        "    #q=q[1:]\n",
        "    for i in graph[curr]:\n",
        "        if track[i] == 0:\n",
        "            track[i]=1\n",
        "            q.append(i)\n",
        "\n",
        "for i in result:\n",
        "    print(i,end=\" \")\n",
        "\n",
        "\n"
      ],
      "metadata": {
        "colab": {
          "base_uri": "https://localhost:8080/"
        },
        "id": "zHxhIrmkAASj",
        "outputId": "de91a974-bcda-41d0-f475-192948930f0b"
      },
      "execution_count": null,
      "outputs": [
        {
          "output_type": "stream",
          "name": "stdout",
          "text": [
            "4 3\n",
            "1 4\n",
            "3 2\n",
            "1 3\n",
            "1 4 3 2 "
          ]
        }
      ]
    },
    {
      "cell_type": "markdown",
      "source": [
        "TASK-C"
      ],
      "metadata": {
        "id": "jqVHOrI3Qg64"
      }
    },
    {
      "cell_type": "code",
      "source": [
        "n,m,s,d= map(int,input().split())\n",
        "u_l= list(map(int,input().split()))\n",
        "v_l= list(map(int,input().split()))\n",
        "\n",
        "graph=[[] for i in range(n+1)]\n",
        "for i in range(m):\n",
        "    u=u_l[i]\n",
        "    v=v_l[i]\n",
        "    graph[u].append(v)\n",
        "    graph[v].append(u)\n",
        "\n",
        "for i in range(1,n+1): #lexicographically order maintain\n",
        "    graph[i].sort()\n",
        "\n",
        "q=[]\n",
        "track=[0]*(n+1) #visit unvisit track\n",
        "parent=[-1]*(n+1)\n",
        "\n",
        "q.append(s)\n",
        "track[s]=1\n",
        "\n",
        "idx=0\n",
        "while idx<len(q):\n",
        "    curr=q[idx]\n",
        "    for i in graph[curr]:\n",
        "        if track[i] == 0: #unvisited thakle\n",
        "            track[i]=1\n",
        "            q.append(i)\n",
        "            parent[i]=curr\n",
        "    idx+=1\n",
        "\n",
        "if track[d]== 0: #destination doesnot exist\n",
        "    print(-1)\n",
        "else:\n",
        "    path=[]\n",
        "    curr=d\n",
        "\n",
        "    while curr!= s:\n",
        "        path.append(curr)\n",
        "        curr=parent[curr]\n",
        "    path.append(curr)\n",
        "\n",
        "    print(len(path)-1)\n",
        "\n",
        "    path.reverse()\n",
        "    for i in path:\n",
        "        print(i,end=\" \")\n",
        "\n",
        "\n"
      ],
      "metadata": {
        "colab": {
          "base_uri": "https://localhost:8080/"
        },
        "id": "9FW6xDjJQiFR",
        "outputId": "8547d7f7-c4c4-4f30-cafa-5d6b035c7330"
      },
      "execution_count": null,
      "outputs": [
        {
          "output_type": "stream",
          "name": "stdout",
          "text": [
            "5 10 5 3\n",
            "2 1 5 3 1 4 2 4 1 4\n",
            "5 5 4 5 2 2 3 1 3 3\n",
            "1\n",
            "5 3 "
          ]
        }
      ]
    },
    {
      "cell_type": "markdown",
      "source": [
        "TASK-D"
      ],
      "metadata": {
        "id": "v19RnkLuWiGF"
      }
    },
    {
      "cell_type": "code",
      "source": [
        "def BFS(s,g,n): # source, graph, n\n",
        "    q=[]\n",
        "    track=[0]*(n+1)\n",
        "    parent=[-1]*(n+1)\n",
        "\n",
        "    q.append(s)\n",
        "    track[s]=1\n",
        "\n",
        "    idx=0\n",
        "    while idx<len(q):\n",
        "        curr= q[idx]\n",
        "        idx+=1\n",
        "        for i in g[curr]:\n",
        "            if track[i] == 0: # jodi unvisited thake\n",
        "                track[i] = 1 #visit korbo\n",
        "                q.append(i)\n",
        "                parent[i]=curr\n",
        "    return track,parent #both list\n",
        "\n",
        "\n",
        "\n",
        "n,m,s,d,k= map(int,input().split())\n",
        "graph = [[] for i in range(n+1)]\n",
        "for i in range(m):\n",
        "    u,v = map(int,input().split())\n",
        "    graph[u].append(v)\n",
        "\n",
        "for i in range(1,n+1): # lexicographically smallest path\n",
        "    graph[i].sort()\n",
        "\n",
        "track1,parent1 = BFS(s,graph,n) # s theke traversal\n",
        "track2,parent2= BFS(k,graph,n)  # k theke traversal\n",
        "\n",
        "\n",
        "if track1[k]==0 or track2[d]==0:\n",
        "    print(-1)\n",
        "else:\n",
        "    path1=[]\n",
        "    curr=k #backtrackiing  # k to s\n",
        "    while curr!=s:\n",
        "        path1.append(curr)\n",
        "        curr=parent1[curr]\n",
        "    path1.append(curr)\n",
        "    path1.reverse()\n",
        "\n",
        "    path2=[]\n",
        "    curr=d #backtrackiing  # d to k\n",
        "    while curr!=k:\n",
        "        path2.append(curr)\n",
        "        curr=parent2[curr]\n",
        "    path2.append(curr)\n",
        "    path2.reverse()\n",
        "\n",
        "result= path1 + path2[1:]\n",
        "print(len(result)-1)\n",
        "for i in result:\n",
        "    print(i,end=\" \")\n",
        "\n",
        "\n",
        "\n",
        "\n",
        "\n"
      ],
      "metadata": {
        "colab": {
          "base_uri": "https://localhost:8080/"
        },
        "id": "4GlsFVWdWkUx",
        "outputId": "a71fe480-b7cd-4f32-f243-76115f0f8a8c"
      },
      "execution_count": null,
      "outputs": [
        {
          "output_type": "stream",
          "name": "stdout",
          "text": [
            "5 10 5 3 5\n",
            "2 5\n",
            "5 1\n",
            "4 5\n",
            "3 5\n",
            "1 2\n",
            "2 4\n",
            "3 2\n",
            "1 4\n",
            "1 3\n",
            "3 4\n",
            "2\n",
            "5 1 3 "
          ]
        }
      ]
    },
    {
      "cell_type": "code",
      "source": [
        "def BFS(s,g,n): # source, graph, n\n",
        "    q=[]\n",
        "    track=[0]*(n+1)\n",
        "    parent=[-1]*(n+1)\n",
        "\n",
        "    q.append(s)\n",
        "    track[s]=1\n",
        "\n",
        "    idx=0\n",
        "    while idx<len(q):\n",
        "        curr= q[idx]\n",
        "        idx+=1\n",
        "        for i in g[curr]:\n",
        "            if track[i]==0: # jodi unvisited thake\n",
        "                track[i]=1 #visit korbo\n",
        "                q.append(i)\n",
        "                parent[i]=curr\n",
        "    return track,parent #both list\n",
        "\n",
        "\n",
        "def path(start,end,parent):\n",
        "    path=[]\n",
        "    curr=end\n",
        "    while curr!=start:\n",
        "        if curr == -1:\n",
        "            return []\n",
        "        path.append(curr)\n",
        "        curr=parent[curr]\n",
        "    path.append(curr)\n",
        "    path.reverse()\n",
        "    return path\n",
        "\n",
        "\n",
        "n,m,s,d,k= map(int,input().split())\n",
        "graph = [[] for i in range(n+1)]\n",
        "for i in range(m):\n",
        "    u,v = map(int,input().split())\n",
        "    graph[u].append(v)\n",
        "\n",
        "for i in range(1,n+1): # lexicographically smallest path\n",
        "    graph[i].sort()\n",
        "\n",
        "track1,parent1 = BFS(s,graph,n) # s theke traversal\n",
        "track2,parent2= BFS(k,graph,n)  # k theke traversal\n",
        "\n",
        "\n",
        "if track1[k]==0 or track2[d]==0:\n",
        "    print(-1)\n",
        "else:\n",
        "    path1= path(s,k,parent1) # k to s\n",
        "    path2= path(k,d,parent2)  # d to k\n",
        "    result= path1 + path2[1:]\n",
        "    print(len(result)-1)\n",
        "    for i in result:\n",
        "        print(i,end= \" \")"
      ],
      "metadata": {
        "colab": {
          "base_uri": "https://localhost:8080/"
        },
        "id": "y4-3z5OpkyTt",
        "outputId": "a3f93910-e29b-4f19-c5eb-bf86fe584a5b"
      },
      "execution_count": null,
      "outputs": [
        {
          "output_type": "stream",
          "name": "stdout",
          "text": [
            "5 10 5 3 5\n",
            "2 5\n",
            "5 1\n",
            "4 5\n",
            "3 5 \n",
            "1 2\n",
            "2 4\n",
            "3 2\n",
            "1 4\n",
            "1 3\n",
            "3 4\n",
            "5 "
          ]
        }
      ]
    },
    {
      "cell_type": "markdown",
      "source": [
        "TASK-B"
      ],
      "metadata": {
        "id": "9Dr1vyQ84Iqx"
      }
    },
    {
      "cell_type": "code",
      "source": [
        "import sys\n",
        "sys.setrecursionlimit(10**6 )\n",
        "\n",
        "n,m = map(int,input().split())\n",
        "u_l = list(map(int,input().split()))\n",
        "v_l = list(map(int,input().split()))\n",
        "\n",
        "graph=[[] for i in range(n+1)]\n",
        "\n",
        "for i in range(m):\n",
        "    u= u_l[i]\n",
        "    v= v_l[i]\n",
        "    graph[u].append(v)\n",
        "    graph[v].append(u)\n",
        "\n",
        "for i in range(1,n+1):\n",
        "    graph[i].sort()\n",
        "\n",
        "track=[0]*(n+1)\n",
        "result=[]\n",
        "\n",
        "def DFS(x):\n",
        "    track[x]=1\n",
        "    result.append(x)\n",
        "    for i in graph[x]:\n",
        "        if track[i]==0:\n",
        "            DFS(i)\n",
        "\n",
        "DFS(1)\n",
        "for i in result:\n",
        "    print(i,end=\" \")\n"
      ],
      "metadata": {
        "colab": {
          "base_uri": "https://localhost:8080/"
        },
        "id": "3qf9gn_o4KE3",
        "outputId": "b7e74808-a7f4-45c8-8a6d-9900147c89cb"
      },
      "execution_count": null,
      "outputs": [
        {
          "output_type": "stream",
          "name": "stdout",
          "text": [
            "4 3\n",
            "1 3 1\n",
            "4 2 3\n",
            "1 3 2 4 "
          ]
        }
      ]
    },
    {
      "cell_type": "markdown",
      "source": [
        "TASK-E"
      ],
      "metadata": {
        "id": "fzi2PfXNGYKA"
      }
    },
    {
      "cell_type": "code",
      "source": [
        "n,m = map(int,input().split())\n",
        "graph=[[] for i in range(n+1)]\n",
        "in_degree=[0]*(n+1)\n",
        "\n",
        "for i in range(m):\n",
        "    u,v= map(int,input().split())\n",
        "    graph[u].append(v)\n",
        "    in_degree[v]+=1\n",
        "\n",
        "q=[]\n",
        "for i in range(1,n+1):\n",
        "    if in_degree[i]==0:\n",
        "        q.append(i)\n",
        "\n",
        "idx=0\n",
        "c=0\n",
        "while idx<len(q):\n",
        "    x=q[idx]\n",
        "    c+=1\n",
        "    for i in graph[x]:\n",
        "        if in_degree[i]>0:\n",
        "            in_degree[i]-=1 #edge remove korlam\n",
        "            if in_degree[i]==0:\n",
        "                q.append(i)\n",
        "    idx+=1\n",
        "\n",
        "if c==n:\n",
        "    print(\"NO\")\n",
        "else:\n",
        "    print(\"YES\")\n"
      ],
      "metadata": {
        "colab": {
          "base_uri": "https://localhost:8080/"
        },
        "collapsed": true,
        "id": "XmA-9--WGZO1",
        "outputId": "e036d932-89f3-48e3-f334-95218eb31432"
      },
      "execution_count": null,
      "outputs": [
        {
          "output_type": "stream",
          "name": "stdout",
          "text": [
            "6 5\n",
            "6 4\n",
            "6 3\n",
            "4 5\n",
            "6 2\n",
            "4 1\n",
            "NO\n"
          ]
        }
      ]
    }
  ]
}