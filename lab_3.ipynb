{
  "cells": [
    {
      "cell_type": "markdown",
      "metadata": {
        "id": "cQeUBkbp822i"
      },
      "source": [
        "task-A"
      ]
    },
    {
      "cell_type": "code",
      "execution_count": null,
      "metadata": {
        "colab": {
          "background_save": true
        },
        "id": "N7jppb9r84cV"
      },
      "outputs": [],
      "source": [
        "def merge_sort(arr):\n",
        "    if len(arr)==1:\n",
        "        return arr\n",
        "\n",
        "    mid=len(arr)//2\n",
        "    left=merge_sort(arr[:mid])\n",
        "    right=merge_sort(arr[mid:])\n",
        "\n",
        "    sorted_arr,inversion= merge(left,right)\n",
        "\n",
        "def merge(left,right):\n",
        "    l=[]\n",
        "    i,j=0,0\n",
        "    c=0\n",
        "    while i<len(left) and j<len(right):\n",
        "        if left[i]<right[j]:\n",
        "            l.append(left[i])\n",
        "            i+=1\n",
        "        else:\n",
        "            l.append(right[j])\n",
        "            j+=1\n",
        "            c+=len(left)-i\n",
        "    #print(c)\n",
        "    l.extend(left[i:])\n",
        "    l.extend(right[j:])\n",
        "    #print(*l)\n",
        "    return l,c\n",
        "x=int(input())\n",
        "arr= list(map(int,input().split()))\n",
        "sorted_arr,inversion=merge_sort(arr)\n",
        "print(inversion)\n",
        "print(*sorted_arr)\n"
      ]
    },
    {
      "cell_type": "code",
      "source": [
        "def merge_sort(arr):\n",
        "    if len(arr)==1:\n",
        "        return arr,0\n",
        "\n",
        "    mid=len(arr)//2\n",
        "    left,l_inv=merge_sort(arr[:mid])\n",
        "    right,r_inv=merge_sort(arr[mid:])\n",
        "\n",
        "    sorted_arr,inversion= merge(left,right)\n",
        "    total=l_inv + r_inv + inversion\n",
        "    return sorted_arr, total\n",
        "\n",
        "def merge(left,right):\n",
        "    l=[]\n",
        "    i,j=0,0\n",
        "    c=0\n",
        "    while i<len(left) and j<len(right):\n",
        "        if left[i]<right[j]:\n",
        "            l.append(left[i])\n",
        "            i+=1\n",
        "        else:\n",
        "            l.append(right[j])\n",
        "            j+=1\n",
        "            c+=len(left)-i\n",
        "    #print(c)\n",
        "    l.extend(left[i:])\n",
        "    l.extend(right[j:])\n",
        "    #print(*l)\n",
        "    return l,c\n",
        "x=int(input())\n",
        "arr= list(map(int,input().split()))\n",
        "sorted_arr,inversion=merge_sort(arr)\n",
        "print(inversion)\n",
        "print(*sorted_arr)\n"
      ],
      "metadata": {
        "colab": {
          "base_uri": "https://localhost:8080/"
        },
        "id": "2Ssh5rweKOc6",
        "outputId": "007da6ca-fd60-4259-9f74-635e6047e182"
      },
      "execution_count": null,
      "outputs": [
        {
          "output_type": "stream",
          "name": "stdout",
          "text": [
            "5\n",
            "1 2 5 4 3\n",
            "0\n",
            "0\n",
            "0\n",
            "0\n",
            "0\n",
            "1\n",
            "0\n",
            "3\n",
            "3\n",
            "1 2 3 4 5\n"
          ]
        }
      ]
    },
    {
      "cell_type": "markdown",
      "source": [
        "task-B"
      ],
      "metadata": {
        "id": "uDWDKEdRMhHX"
      }
    },
    {
      "cell_type": "code",
      "source": [
        "def helper(arr):\n",
        "    max_sum=-1000\n",
        "    max_i=arr[0]\n",
        "\n",
        "    for j in range(1,len(arr)):\n",
        "        new_sum=max_i+(arr[j])**2\n",
        "        max_sum=max(max_sum,new_sum)\n",
        "        max_i=max(max_i,arr[j])\n",
        "\n",
        "    print(max_sum)\n",
        "\n",
        "x=int(input())\n",
        "arr=list(map(int,input().split()))\n",
        "helper(arr)"
      ],
      "metadata": {
        "colab": {
          "base_uri": "https://localhost:8080/"
        },
        "id": "715yPDQAMiSa",
        "outputId": "21b9be08-fa06-4597-f5a5-e7504029b61c"
      },
      "execution_count": null,
      "outputs": [
        {
          "output_type": "stream",
          "name": "stdout",
          "text": [
            "5\n",
            "4 3 1 5 6\n",
            "41\n"
          ]
        }
      ]
    },
    {
      "cell_type": "markdown",
      "source": [
        "TASK-C"
      ],
      "metadata": {
        "id": "f9juDkm4fvAr"
      }
    },
    {
      "cell_type": "code",
      "source": [
        "def fast_mod(a, b):\n",
        "    if b == 0:\n",
        "        return 1\n",
        "    ans = fast_mod(a, b // 2)\n",
        "    ans = (ans * ans) % 107\n",
        "\n",
        "    if b % 2 == 1:\n",
        "        ans = (ans * a) % 107\n",
        "\n",
        "    return ans\n",
        "a,b= list(map(int,input().split()))\n",
        "print(fast_mod(a, b))"
      ],
      "metadata": {
        "id": "b8VAwQNmfwTN"
      },
      "execution_count": null,
      "outputs": []
    },
    {
      "cell_type": "markdown",
      "source": [
        "TASK-D"
      ],
      "metadata": {
        "id": "oPEM6QafgFjj"
      }
    },
    {
      "cell_type": "code",
      "source": [
        "def mod_pow(a, b, m):\n",
        "    result = 1\n",
        "    a = a % m\n",
        "    while b > 0:\n",
        "        if b % 2 == 1:\n",
        "            result = (result * a) % m\n",
        "        a = (a * a) % m\n",
        "        b //= 2\n",
        "    return result\n",
        "\n",
        "def solve(a, n, m):\n",
        "    if a == 1:\n",
        "        return n % m\n",
        "    else:\n",
        "        result = 0\n",
        "        power = a\n",
        "        for _ in range(n):\n",
        "            result = (result + power) % m\n",
        "            power = (power * a) % m\n",
        "        return result\n",
        "\n",
        "T = int(input())\n",
        "for _ in range(T):\n",
        "    a, n, m = map(int, input().split())\n",
        "    print(solve(a, n, m))"
      ],
      "metadata": {
        "id": "KSn2BVE1gG96"
      },
      "execution_count": null,
      "outputs": []
    },
    {
      "cell_type": "markdown",
      "source": [
        "TASK-E"
      ],
      "metadata": {
        "id": "IJ4LBc_sg33B"
      }
    },
    {
      "cell_type": "code",
      "source": [
        "def Tree(arr,left,right,result):\n",
        "  if left > right:\n",
        "    return\n",
        "  mid = (left+right) // 2\n",
        "  result.append(arr[mid])\n",
        "  Tree(arr,left,mid-1,result)\n",
        "  Tree(arr,mid+1,right,result)\n",
        "  return result\n",
        "n = int(input())\n",
        "arr = list(map(int,input().split()))\n",
        "a = Tree(arr,0,len(arr) - 1,[])\n",
        "b = \"\"\n",
        "for i in a:\n",
        "  b = b + str(i)+ \" \"\n",
        "print(b)"
      ],
      "metadata": {
        "id": "plb12EjTg5_e"
      },
      "execution_count": null,
      "outputs": []
    },
    {
      "cell_type": "markdown",
      "source": [
        "TASK-F"
      ],
      "metadata": {
        "id": "wV_EbnsthEe5"
      }
    },
    {
      "cell_type": "code",
      "source": [
        "def TreeNode(self,elem):\n",
        "  def __init__(self,elem):\n",
        "    self.elem = elem\n",
        "    self.left = None\n",
        "    self.right = None\n",
        "def tree(preorder,inorder):\n",
        "  if root != preorder or root!=inorder:\n",
        "    return\n",
        "  root_elem = preorder.pop()\n",
        "  root = TreeNode(root_elem)\n",
        "  inorder_idx = inorder.index(root_elem)\n",
        "  root.left = tree(preorder, inorder[:inorder_idx])\n",
        "  root.right = tree(preorder, inorder[inorder_idx + 1:])\n",
        "  return root\n",
        "def print_tree(root, level=0, prefix=\"Root: \"):\n",
        "    if root is not None:\n",
        "        print(\" \" * (level * 4) + prefix + str(root.val))\n",
        "        print_tree(root.left, level + 1)\n",
        "        print_tree(root.right, level + 1)\n",
        "preorder = [3, 9, 20, 15, 7]\n",
        "inorder = [9, 3, 15, 20, 7]\n",
        "\n",
        "root = tree(preorder, inorder)\n",
        "print_tree(root)"
      ],
      "metadata": {
        "id": "CXbC_5wMhFoK"
      },
      "execution_count": null,
      "outputs": []
    }
  ],
  "metadata": {
    "colab": {
      "provenance": []
    },
    "kernelspec": {
      "display_name": "Python 3",
      "name": "python3"
    },
    "language_info": {
      "name": "python"
    }
  },
  "nbformat": 4,
  "nbformat_minor": 0
}