{
  "nbformat": 4,
  "nbformat_minor": 0,
  "metadata": {
    "colab": {
      "provenance": []
    },
    "kernelspec": {
      "name": "python3",
      "display_name": "Python 3"
    },
    "language_info": {
      "name": "python"
    }
  },
  "cells": [
    {
      "cell_type": "code",
      "execution_count": null,
      "metadata": {
        "id": "POTE5njXz4m8"
      },
      "outputs": [],
      "source": []
    },
    {
      "cell_type": "markdown",
      "source": [
        "A"
      ],
      "metadata": {
        "id": "So8-Mu5jz8Uu"
      }
    },
    {
      "cell_type": "code",
      "source": [
        "x= list(map(int,input().split()))\n",
        "s=x[1]\n",
        "n=x[0]\n",
        "y=list(map(int,input().split()))\n",
        "for i in range(len(y)):\n",
        "    for j in range(i+1,len(y)):\n",
        "        if y[i]+y[j] == s:\n",
        "            print(f'{i} {j}')\n",
        "\n"
      ],
      "metadata": {
        "colab": {
          "base_uri": "https://localhost:8080/"
        },
        "id": "nbWZE9f7z8-K",
        "outputId": "ef62cb13-3bb8-4378-9d38-d249054b0dca"
      },
      "execution_count": null,
      "outputs": [
        {
          "output_type": "stream",
          "name": "stdout",
          "text": [
            "4 10\n",
            "1 3 5 7\n",
            "1 3\n"
          ]
        }
      ]
    },
    {
      "cell_type": "code",
      "source": [
        "x=list(map(int,input().split()))\n",
        "y=list(map(int,input().split()))\n",
        "S=x[1]\n",
        "\n",
        "def helper(S,y):\n",
        "    l,r=0,len(y)-1\n",
        "    while l<r :\n",
        "        sum= y[l] + y[r]\n",
        "        if sum==S:\n",
        "            print(l+1,r+1)\n",
        "            return\n",
        "        elif sum<S:\n",
        "            l+=1\n",
        "        elif sum>S:\n",
        "            r-=1\n",
        "    print(-1)\n",
        "helper(S,y)\n",
        "\n"
      ],
      "metadata": {
        "colab": {
          "base_uri": "https://localhost:8080/"
        },
        "id": "_4I1nqnRcOIu",
        "outputId": "e760d0d8-b458-40eb-ec5d-515f08684492"
      },
      "execution_count": null,
      "outputs": [
        {
          "output_type": "stream",
          "name": "stdout",
          "text": [
            "4 10\n",
            "1 3  5 7\n",
            "2 4\n"
          ]
        }
      ]
    },
    {
      "cell_type": "markdown",
      "source": [
        "TASK-B"
      ],
      "metadata": {
        "id": "QrGzZEqmuUpo"
      }
    },
    {
      "cell_type": "code",
      "source": [
        "x=int(input())\n",
        "l1=list(map(int,input().split()))\n",
        "y=int(input())\n",
        "l2=list(map(int,input().split()))\n",
        "\n",
        "def helper(l1,l2):\n",
        "    arr=[]\n",
        "    i,j=0,0\n",
        "\n",
        "    while i<len(l1) and j<len(l2):\n",
        "        if l1[i]<l2[j]:\n",
        "            arr.append(l1[i])\n",
        "            i+=1\n",
        "        else:\n",
        "            arr.append(l2[j])\n",
        "            j+=1\n",
        "    arr=arr+l1[i:]\n",
        "    arr=arr+l2[j:]\n",
        "\n",
        "    return arr\n",
        "result=helper(l1,l2)\n",
        "print(*result)\n",
        "\n",
        "\n"
      ],
      "metadata": {
        "colab": {
          "base_uri": "https://localhost:8080/"
        },
        "id": "XRRXQUx2uWoQ",
        "outputId": "943e650d-ea98-45c4-e0aa-e0a08b1abfb7"
      },
      "execution_count": null,
      "outputs": [
        {
          "output_type": "stream",
          "name": "stdout",
          "text": [
            "3\n",
            "2 10 12\n",
            "6\n",
            "3 4 6 7 8 9\n",
            "2 3 4 6 7 8 9 10 12\n"
          ]
        }
      ]
    },
    {
      "cell_type": "code",
      "source": [
        "arr=[1,2,3,4,5]\n",
        "l=[2,9,7]\n",
        "print(l+arr[3:])"
      ],
      "metadata": {
        "colab": {
          "base_uri": "https://localhost:8080/"
        },
        "id": "LDSVPRYqyiZb",
        "outputId": "6a07b34b-c50c-464e-9605-e123810aa8d9"
      },
      "execution_count": null,
      "outputs": [
        {
          "output_type": "stream",
          "name": "stdout",
          "text": [
            "[2, 9, 7, 4, 5]\n"
          ]
        }
      ]
    },
    {
      "cell_type": "markdown",
      "source": [
        "TASK-C"
      ],
      "metadata": {
        "id": "40UyPCMGuySH"
      }
    },
    {
      "cell_type": "code",
      "source": [
        "n,k= map(int,input().split())\n",
        "arr=list(map(int,input().split()))\n",
        "\n",
        "\n",
        "def helper(n,k,arr):\n",
        "    sum=0\n",
        "    l= 0\n",
        "    max_length=0\n",
        "\n",
        "    for r in range(n):\n",
        "        sum+=arr[r]\n",
        "        while sum>k:\n",
        "            sum-=arr[l]\n",
        "            l+=1\n",
        "        max_length=max(max_length,r-l+1)\n",
        "    return max_length\n",
        "print(helper(n,k,arr))\n",
        "\n"
      ],
      "metadata": {
        "colab": {
          "base_uri": "https://localhost:8080/"
        },
        "id": "vuD_oSDluzlA",
        "outputId": "6f3ba15e-f254-4524-c352-a30bc6377dc3"
      },
      "execution_count": null,
      "outputs": [
        {
          "output_type": "stream",
          "name": "stdout",
          "text": [
            "5 4\n",
            "4 1 2 1 5\n",
            "3\n"
          ]
        }
      ]
    },
    {
      "cell_type": "code",
      "source": [
        "n,k= map(int,input().split())\n",
        "arr=list(map(int,input().split()))\n",
        "\n",
        "\n",
        "def helper(n,k,arr):\n",
        "    sum=0\n",
        "    l,r= 0,0\n",
        "    max_length=0\n",
        "\n",
        "    while l<=r:\n",
        "        sum+=arr[r]\n",
        "        if sum>k:\n",
        "            sum-=arr[l]\n",
        "            l+=1\n",
        "        else:\n",
        "            r+=1\n",
        "            max_length= max(max_length,r-l)\n",
        "\n",
        "\n",
        "    return max_length\n",
        "print(helper(n,k,arr))\n"
      ],
      "metadata": {
        "id": "h8vDHAK29Eao",
        "colab": {
          "base_uri": "https://localhost:8080/"
        },
        "outputId": "2a7ae834-cce9-4a46-f7cb-797f289eeac4"
      },
      "execution_count": null,
      "outputs": [
        {
          "output_type": "stream",
          "name": "stdout",
          "text": [
            "5 4\n",
            "4 1 2 1 5\n",
            "0\n"
          ]
        }
      ]
    },
    {
      "cell_type": "markdown",
      "source": [
        "TASK-D"
      ],
      "metadata": {
        "id": "igHSt4qcBjoo"
      }
    },
    {
      "cell_type": "code",
      "source": [
        "def helper(a):\n",
        "    l,r = 0,len(a)-1\n",
        "    idx=-1 #random\n",
        "    while l<= r:\n",
        "        mid = (l + r) // 2\n",
        "        if a[mid] == '1':\n",
        "            idx=mid\n",
        "            r = mid - 1 #1 khujbo bame\n",
        "        else:\n",
        "            l = mid + 1  #bame 1 nai, dane khujbo\n",
        "    if idx!=-1:\n",
        "        print(idx+1)\n",
        "    else:\n",
        "        print(-1)\n",
        "\n",
        "x=int(input())\n",
        "l=[]\n",
        "for i in range(x):\n",
        "    l.append(input())\n",
        "#l = [input() for _ in range(x)]\n",
        "#result=[helper(l[i]) for i in range(x)]\n",
        "#print(\"\\n\".join(map(str, result)))\n",
        "for i in l:\n",
        "    helper(i)"
      ],
      "metadata": {
        "id": "j-7UMsDdBlQS"
      },
      "execution_count": null,
      "outputs": []
    },
    {
      "cell_type": "markdown",
      "source": [
        "TASK-E"
      ],
      "metadata": {
        "id": "-Qifav0xMA5q"
      }
    },
    {
      "cell_type": "code",
      "source": [
        "def helper(arr,x,y):\n",
        "    l,r= 0,len(arr)-1\n",
        "    lower=len(arr)\n",
        "    while l <= r:  #x khuji\n",
        "        mid = (l + r) // 2\n",
        "        if arr[mid] >= x:\n",
        "            lower = mid\n",
        "            r = mid - 1\n",
        "        else:\n",
        "            l=mid+1\n",
        "\n",
        "    l,r= 0,len(arr)-1\n",
        "    upper=-1\n",
        "    while l <= r:  #y khuji\n",
        "        mid = (l + r) // 2\n",
        "        if arr[mid] <= y:\n",
        "            upper = mid\n",
        "            l = mid + 1\n",
        "        else:\n",
        "            r = mid -1\n",
        "    print (upper - lower + 1)\n",
        "\n",
        "n,q= map(int,input().split())\n",
        "arr=list(map(int,input().split()))\n",
        "for i in range (q):\n",
        "    x, y = map(int, input().split())\n",
        "    helper(arr, x, y)"
      ],
      "metadata": {
        "id": "NtvmgA2iMCL6",
        "colab": {
          "base_uri": "https://localhost:8080/"
        },
        "outputId": "2625a8de-3a68-42c9-c379-af097b6724b2"
      },
      "execution_count": null,
      "outputs": [
        {
          "output_type": "stream",
          "name": "stdout",
          "text": [
            "5 3\n",
            "10 20 20 45 79\n",
            "20 50\n",
            "3\n",
            "5 45\n",
            "4\n",
            "1 100\n",
            "5\n"
          ]
        }
      ]
    }
  ]
}